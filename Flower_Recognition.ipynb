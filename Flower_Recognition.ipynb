{
  "nbformat": 4,
  "nbformat_minor": 0,
  "metadata": {
    "colab": {
      "name": "Flower_Recognition.ipynb",
      "provenance": [],
      "collapsed_sections": []
    },
    "kernelspec": {
      "name": "python3",
      "display_name": "Python 3"
    },
    "language_info": {
      "name": "python"
    }
  },
  "cells": [
    {
      "cell_type": "markdown",
      "metadata": {
        "id": "jn5eYvrnND_L"
      },
      "source": [
        "Assignment: Flowers Recognition <br>\n",
        "Dataset Description:<br>\n",
        "\n",
        "This dataset contains 4242 images of flowers.<br>\n",
        "The data collection is based on the data flicr, google images, yandex images.<br>\n",
        "You can use this datastet to recognize plants from the photo.<br>\n",
        "\n",
        "Attribute Information:<br>\n",
        "The pictures are divided into five classes: chamomile, tulip, rose, sunflower, dandelion.<br>\n",
        "For each class there are about 800 photos. Photos are not high resolution, about 320x240 pixels. <br>\n",
        "<b>Also explore how to resize images in tensorflow and then resize all the images to a same size. </b> <br>\n",
        "This is a Multiclass Classification Problem.<br>\n"
      ]
    },
    {
      "cell_type": "markdown",
      "metadata": {
        "id": "WV9hO3V1NHbv"
      },
      "source": [
        "WORKFLOW : <br>\n",
        "Load Data <br>\n",
        "Split into 60 and 40 ratio.<br>\n",
        "Encode labels.<br>\n",
        "Create Model<br>\n",
        "Compilation Step (Note : Its a Multiclass Classification problem , select loss , metrics according to it)<br>\n",
        "Train the Model.<br>\n",
        "If the model gets overfit tune your model by changing the units , No. of layers , epochs , add dropout layer or add Regularizer according to the need .<br>\n",
        "Prediction should be > 85%<br>\n",
        "Evaluation Step<br>\n",
        "Prediction<br>"
      ]
    },
    {
      "cell_type": "markdown",
      "metadata": {
        "id": "YpIldhr8Uw4z"
      },
      "source": [
        "Data : <br>\n",
        "https://drive.google.com/file/d/1-OX6wn5gA-bJpjPNfSyaYQLz-A-AB_uj/view?usp=sharing"
      ]
    },
    {
      "cell_type": "code",
      "metadata": {
        "id": "ukHwKMY1NOWF"
      },
      "source": [
        "import numpy as np\n",
        "from os import listdir\n",
        "import os\n",
        "from os.path import join\n",
        "import matplotlib.pyplot as plt\n",
        "import cv2\n",
        "import pandas as pd\n",
        "import sklearn"
      ],
      "execution_count": 8,
      "outputs": []
    },
    {
      "cell_type": "code",
      "metadata": {
        "colab": {
          "base_uri": "https://localhost:8080/"
        },
        "id": "YxyQOn1BNUCq",
        "outputId": "41401305-0c27-401b-dddf-072fc7340f6b"
      },
      "source": [
        "data = \"/content/drive/MyDrive/DL_Assignments_PIAIC/flowers\"\n",
        "folders = os.listdir(data)\n",
        "print(folders)"
      ],
      "execution_count": 5,
      "outputs": [
        {
          "output_type": "stream",
          "text": [
            "['dandelion', 'tulip', 'sunflower', 'daisy', 'rose']\n"
          ],
          "name": "stdout"
        }
      ]
    },
    {
      "cell_type": "code",
      "metadata": {
        "id": "fWBqjMtmN8pP"
      },
      "source": [
        "image_names = []\n",
        "labels = []\n",
        "data_images = []\n",
        "\n",
        "\n",
        "size = 28,28\n",
        "\n",
        "for folder in folders:\n",
        "    for file in os.listdir(os.path.join(data,folder)):\n",
        "        if file.endswith(\"jpg\"):\n",
        "            image_names.append(os.path.join(data,folder,file))\n",
        "            labels.append(folder)\n",
        "            img = cv2.imread(os.path.join(data,folder,file))\n",
        "            im = cv2.resize(img,size)\n",
        "            data_images.append(im)\n",
        "        else:\n",
        "            continue"
      ],
      "execution_count": 6,
      "outputs": []
    },
    {
      "cell_type": "code",
      "metadata": {
        "id": "LFi5-K7lOAYJ"
      },
      "source": [
        "label_dummies = pd.get_dummies(labels)\n",
        "labels =  label_dummies.values.argmax(1)"
      ],
      "execution_count": 9,
      "outputs": []
    },
    {
      "cell_type": "code",
      "metadata": {
        "id": "5g4ho0R_OMX_"
      },
      "source": [
        "labels=np.asarray(labels).astype(\"float32\")\n",
        "data = np.asarray(data_images).astype(\"float32\")/255.0"
      ],
      "execution_count": 10,
      "outputs": []
    },
    {
      "cell_type": "code",
      "metadata": {
        "colab": {
          "base_uri": "https://localhost:8080/"
        },
        "id": "Haye0VK5OO0M",
        "outputId": "1afa498a-5aa1-442f-c9d9-33b6694d7ec3"
      },
      "source": [
        "print(f\"Shape of images is :{data.shape}\")\n",
        "print(f\"Shape of labels is :{labels.shape}\")"
      ],
      "execution_count": 11,
      "outputs": [
        {
          "output_type": "stream",
          "text": [
            "Shape of images is :(4323, 28, 28, 3)\n",
            "Shape of labels is :(4323,)\n"
          ],
          "name": "stdout"
        }
      ]
    },
    {
      "cell_type": "code",
      "metadata": {
        "id": "wX5M8HZMOSHu"
      },
      "source": [
        "from sklearn.model_selection import train_test_split\n",
        "X_train,X_test,y_train,y_test=train_test_split(data,labels,test_size=.40,random_state=1)"
      ],
      "execution_count": 12,
      "outputs": []
    },
    {
      "cell_type": "code",
      "metadata": {
        "colab": {
          "base_uri": "https://localhost:8080/"
        },
        "id": "kyE98DxHOaSy",
        "outputId": "0b72d4a1-1273-4d4e-b143-94894d8d4b8c"
      },
      "source": [
        "X_train[0]"
      ],
      "execution_count": 13,
      "outputs": [
        {
          "output_type": "execute_result",
          "data": {
            "text/plain": [
              "array([[[0.78039217, 0.7137255 , 0.6901961 ],\n",
              "        [0.81960785, 0.75686276, 0.7411765 ],\n",
              "        [0.83137256, 0.76862746, 0.7411765 ],\n",
              "        ...,\n",
              "        [0.8       , 0.7372549 , 0.7137255 ],\n",
              "        [0.8039216 , 0.7294118 , 0.7019608 ],\n",
              "        [0.7882353 , 0.7254902 , 0.7137255 ]],\n",
              "\n",
              "       [[0.7921569 , 0.7294118 , 0.7254902 ],\n",
              "        [0.81960785, 0.75686276, 0.73333335],\n",
              "        [0.8156863 , 0.7490196 , 0.7372549 ],\n",
              "        ...,\n",
              "        [0.79607844, 0.7254902 , 0.72156864],\n",
              "        [0.7921569 , 0.7372549 , 0.7058824 ],\n",
              "        [0.78431374, 0.7254902 , 0.7176471 ]],\n",
              "\n",
              "       [[0.8       , 0.7411765 , 0.7176471 ],\n",
              "        [0.8117647 , 0.7529412 , 0.72156864],\n",
              "        [0.8156863 , 0.7529412 , 0.7294118 ],\n",
              "        ...,\n",
              "        [0.7921569 , 0.7294118 , 0.7058824 ],\n",
              "        [0.7764706 , 0.72156864, 0.69803923],\n",
              "        [0.7647059 , 0.7176471 , 0.69411767]],\n",
              "\n",
              "       ...,\n",
              "\n",
              "       [[0.14509805, 0.42745098, 0.40392157],\n",
              "        [0.2627451 , 0.4745098 , 0.5019608 ],\n",
              "        [0.10196079, 0.3019608 , 0.25490198],\n",
              "        ...,\n",
              "        [0.16470589, 0.33333334, 0.29803923],\n",
              "        [0.19607843, 0.4       , 0.32941177],\n",
              "        [0.1764706 , 0.41568628, 0.3137255 ]],\n",
              "\n",
              "       [[0.24313726, 0.5294118 , 0.5921569 ],\n",
              "        [0.24313726, 0.4509804 , 0.4509804 ],\n",
              "        [0.3647059 , 0.5803922 , 0.5372549 ],\n",
              "        ...,\n",
              "        [0.09411765, 0.36862746, 0.3137255 ],\n",
              "        [0.16470589, 0.44313726, 0.38431373],\n",
              "        [0.3372549 , 0.5647059 , 0.5568628 ]],\n",
              "\n",
              "       [[0.25490198, 0.47843137, 0.5254902 ],\n",
              "        [0.10980392, 0.3254902 , 0.2784314 ],\n",
              "        [0.33333334, 0.5647059 , 0.4627451 ],\n",
              "        ...,\n",
              "        [0.04705882, 0.33333334, 0.21176471],\n",
              "        [0.23529412, 0.44313726, 0.42745098],\n",
              "        [0.1254902 , 0.34509805, 0.29411766]]], dtype=float32)"
            ]
          },
          "metadata": {
            "tags": []
          },
          "execution_count": 13
        }
      ]
    },
    {
      "cell_type": "code",
      "metadata": {
        "colab": {
          "base_uri": "https://localhost:8080/"
        },
        "id": "zZXIcAjhOec-",
        "outputId": "bf8af2cf-8195-4ebc-bfe8-2ddb07899e2f"
      },
      "source": [
        "\n",
        "y_train[0]"
      ],
      "execution_count": 14,
      "outputs": [
        {
          "output_type": "execute_result",
          "data": {
            "text/plain": [
              "3.0"
            ]
          },
          "metadata": {
            "tags": []
          },
          "execution_count": 14
        }
      ]
    },
    {
      "cell_type": "code",
      "metadata": {
        "id": "MuWDa8dsOiAM"
      },
      "source": [
        "from keras.models import Sequential\n",
        "from keras.layers import Conv2D,MaxPool2D,Flatten,Dense\n",
        "network =Sequential()\n",
        "network.add(Conv2D(8, (1,1),input_shape=(28, 28, 3),activation='relu'))\n",
        "network.add(MaxPool2D(pool_size=(1,1)))\n",
        "network.add(Conv2D(16, (1,1),activation='relu'))\n",
        "network.add(MaxPool2D(pool_size=(2,2)))\n",
        "network.add(Flatten())\n",
        "network.add(Dense(128,activation='relu'))\n",
        "network.add(Dense(5,activation=\"softmax\"))"
      ],
      "execution_count": 23,
      "outputs": []
    },
    {
      "cell_type": "code",
      "metadata": {
        "colab": {
          "base_uri": "https://localhost:8080/"
        },
        "id": "Z6n6qqu2OlIS",
        "outputId": "6ec60acd-0226-4a43-dc0f-a07f3ab5d109"
      },
      "source": [
        "network.summary()"
      ],
      "execution_count": 24,
      "outputs": [
        {
          "output_type": "stream",
          "text": [
            "Model: \"sequential_1\"\n",
            "_________________________________________________________________\n",
            "Layer (type)                 Output Shape              Param #   \n",
            "=================================================================\n",
            "conv2d_2 (Conv2D)            (None, 28, 28, 8)         32        \n",
            "_________________________________________________________________\n",
            "max_pooling2d_2 (MaxPooling2 (None, 28, 28, 8)         0         \n",
            "_________________________________________________________________\n",
            "conv2d_3 (Conv2D)            (None, 28, 28, 16)        144       \n",
            "_________________________________________________________________\n",
            "max_pooling2d_3 (MaxPooling2 (None, 14, 14, 16)        0         \n",
            "_________________________________________________________________\n",
            "flatten_1 (Flatten)          (None, 3136)              0         \n",
            "_________________________________________________________________\n",
            "dense_2 (Dense)              (None, 128)               401536    \n",
            "_________________________________________________________________\n",
            "dense_3 (Dense)              (None, 5)                 645       \n",
            "=================================================================\n",
            "Total params: 402,357\n",
            "Trainable params: 402,357\n",
            "Non-trainable params: 0\n",
            "_________________________________________________________________\n"
          ],
          "name": "stdout"
        }
      ]
    },
    {
      "cell_type": "code",
      "metadata": {
        "colab": {
          "base_uri": "https://localhost:8080/"
        },
        "id": "a5cCCZh6On_U",
        "outputId": "c696101d-2efe-4662-b3cc-edcbcb69753c"
      },
      "source": [
        "network.compile(loss='sparse_categorical_crossentropy',optimizer='adam',metrics=['accuracy'])\n",
        "batch_size = 1\n",
        "epochs = 22\n",
        "history=network.fit(X_train, y_train,batch_size=batch_size,epochs=epochs)"
      ],
      "execution_count": 39,
      "outputs": [
        {
          "output_type": "stream",
          "text": [
            "Epoch 1/22\n",
            "2593/2593 [==============================] - 10s 4ms/step - loss: 0.0306 - accuracy: 0.9937\n",
            "Epoch 2/22\n",
            "2593/2593 [==============================] - 9s 4ms/step - loss: 0.0978 - accuracy: 0.9849\n",
            "Epoch 3/22\n",
            "2593/2593 [==============================] - 10s 4ms/step - loss: 0.0156 - accuracy: 0.9946\n",
            "Epoch 4/22\n",
            "2593/2593 [==============================] - 10s 4ms/step - loss: 0.0224 - accuracy: 0.9928\n",
            "Epoch 5/22\n",
            "2593/2593 [==============================] - 10s 4ms/step - loss: 0.0427 - accuracy: 0.9912\n",
            "Epoch 6/22\n",
            "2593/2593 [==============================] - 10s 4ms/step - loss: 0.0298 - accuracy: 0.9900\n",
            "Epoch 7/22\n",
            "2593/2593 [==============================] - 10s 4ms/step - loss: 0.0587 - accuracy: 0.9840\n",
            "Epoch 8/22\n",
            "2593/2593 [==============================] - 9s 4ms/step - loss: 0.0155 - accuracy: 0.9959\n",
            "Epoch 9/22\n",
            "2593/2593 [==============================] - 9s 3ms/step - loss: 0.0125 - accuracy: 0.9972\n",
            "Epoch 10/22\n",
            "2593/2593 [==============================] - 9s 3ms/step - loss: 0.0593 - accuracy: 0.9884\n",
            "Epoch 11/22\n",
            "2593/2593 [==============================] - 9s 4ms/step - loss: 0.0212 - accuracy: 0.9921\n",
            "Epoch 12/22\n",
            "2593/2593 [==============================] - 10s 4ms/step - loss: 0.0241 - accuracy: 0.9931\n",
            "Epoch 13/22\n",
            "2593/2593 [==============================] - 10s 4ms/step - loss: 3.1976e-04 - accuracy: 1.0000\n",
            "Epoch 14/22\n",
            "2593/2593 [==============================] - 9s 4ms/step - loss: 3.9718e-05 - accuracy: 1.0000\n",
            "Epoch 15/22\n",
            "2593/2593 [==============================] - 10s 4ms/step - loss: 1.0256e-05 - accuracy: 1.0000\n",
            "Epoch 16/22\n",
            "2593/2593 [==============================] - 9s 4ms/step - loss: 3.4016e-06 - accuracy: 1.0000\n",
            "Epoch 17/22\n",
            "2593/2593 [==============================] - 9s 4ms/step - loss: 1.5903e-06 - accuracy: 1.0000\n",
            "Epoch 18/22\n",
            "2593/2593 [==============================] - 9s 3ms/step - loss: 5.8943e-04 - accuracy: 1.0000\n",
            "Epoch 19/22\n",
            "2593/2593 [==============================] - 9s 4ms/step - loss: 0.1544 - accuracy: 0.9755\n",
            "Epoch 20/22\n",
            "2593/2593 [==============================] - 9s 3ms/step - loss: 9.8200e-04 - accuracy: 1.0000\n",
            "Epoch 21/22\n",
            "2593/2593 [==============================] - 9s 3ms/step - loss: 0.0692 - accuracy: 0.9880\n",
            "Epoch 22/22\n",
            "2593/2593 [==============================] - 9s 4ms/step - loss: 0.0143 - accuracy: 0.9962\n"
          ],
          "name": "stdout"
        }
      ]
    },
    {
      "cell_type": "code",
      "metadata": {
        "colab": {
          "base_uri": "https://localhost:8080/"
        },
        "id": "WtTYc260Ot2D",
        "outputId": "2dca2c34-510e-4386-a880-713db3f4ca13"
      },
      "source": [
        "history_dict = history.history\n",
        "history_dict.keys()\n",
        "[u'accuracy', u'loss']"
      ],
      "execution_count": 40,
      "outputs": [
        {
          "output_type": "execute_result",
          "data": {
            "text/plain": [
              "['accuracy', 'loss']"
            ]
          },
          "metadata": {
            "tags": []
          },
          "execution_count": 40
        }
      ]
    },
    {
      "cell_type": "code",
      "metadata": {
        "colab": {
          "base_uri": "https://localhost:8080/",
          "height": 295
        },
        "id": "quUUqmQhOxqP",
        "outputId": "f3e2ccf7-797d-4ec2-9e67-da5c2082f3ea"
      },
      "source": [
        "history_dict = history.history\n",
        "loss_values = history_dict['loss']\n",
        "val_accuracy = history_dict['accuracy']\n",
        "epochs = range(1, len(history_dict['accuracy']) + 1)\n",
        "plt.plot(epochs, loss_values, 'r', label='loss')\n",
        "plt.plot(epochs, val_accuracy, 'b', label='Accuracy')\n",
        "plt.title('Loss and Accuracy')\n",
        "plt.xlabel('epochs')\n",
        "plt.ylabel('Loss')\n",
        "plt.legend()\n",
        "plt.grid()\n",
        "plt.show()"
      ],
      "execution_count": 41,
      "outputs": [
        {
          "output_type": "display_data",
          "data": {
            "image/png": "[encoded data removed]",
            "text/plain": [
              "<Figure size 432x288 with 1 Axes>"
            ]
          },
          "metadata": {
            "tags": [],
            "needs_background": "light"
          }
        }
      ]
    },
    {
      "cell_type": "code",
      "metadata": {
        "colab": {
          "base_uri": "https://localhost:8080/"
        },
        "id": "VVXcfSF8PBFN",
        "outputId": "5fe1421e-85a5-409f-8947-d35703eb7bba"
      },
      "source": [
        "network.evaluate(X_test,y_test)"
      ],
      "execution_count": 42,
      "outputs": [
        {
          "output_type": "stream",
          "text": [
            "55/55 [==============================] - 0s 5ms/step - loss: 5.3972 - accuracy: 0.6069\n"
          ],
          "name": "stdout"
        },
        {
          "output_type": "execute_result",
          "data": {
            "text/plain": [
              "[5.397195816040039, 0.6069363951683044]"
            ]
          },
          "metadata": {
            "tags": []
          },
          "execution_count": 42
        }
      ]
    },
    {
      "cell_type": "code",
      "metadata": {
        "colab": {
          "base_uri": "https://localhost:8080/"
        },
        "id": "nrX-GTTpPHTJ",
        "outputId": "dfc8bd9f-7300-4a8a-8abb-efbf047c45a3"
      },
      "source": [
        "pred = network.predict_classes(X_test[:10])\n",
        "for i in range(len(pred)):\n",
        "    print(pred[i],'==>',y_test[i])"
      ],
      "execution_count": 43,
      "outputs": [
        {
          "output_type": "stream",
          "text": [
            "4 ==> 2.0\n",
            "4 ==> 4.0\n",
            "3 ==> 3.0\n",
            "4 ==> 4.0\n",
            "3 ==> 3.0\n",
            "3 ==> 3.0\n",
            "3 ==> 3.0\n",
            "2 ==> 2.0\n",
            "1 ==> 4.0\n",
            "0 ==> 4.0\n"
          ],
          "name": "stdout"
        },
        {
          "output_type": "stream",
          "text": [
            "/usr/local/lib/python3.7/dist-packages/tensorflow/python/keras/engine/sequential.py:450: UserWarning: `model.predict_classes()` is deprecated and will be removed after 2021-01-01. Please use instead:* `np.argmax(model.predict(x), axis=-1)`,   if your model does multi-class classification   (e.g. if it uses a `softmax` last-layer activation).* `(model.predict(x) > 0.5).astype(\"int32\")`,   if your model does binary classification   (e.g. if it uses a `sigmoid` last-layer activation).\n",
            "  warnings.warn('`model.predict_classes()` is deprecated and '\n"
          ],
          "name": "stderr"
        }
      ]
    },
    {
      "cell_type": "code",
      "metadata": {
        "colab": {
          "base_uri": "https://localhost:8080/",
          "height": 273
        },
        "id": "77WRCDq4PKKu",
        "outputId": "ba23dc3e-8401-4f1d-e73c-36b515875063"
      },
      "source": [
        "plt.figure(figsize=(20,5))\n",
        "plt.subplot(1, 2, 1 )\n",
        "plt.hist(y_test[:10])\n",
        "plt.xlabel('Original Target Value')\n",
        "plt.ylabel('Count')\n",
        "plt.subplot(1, 2, 2)\n",
        "plt.hist(pred)\n",
        "plt.xlabel('Aggregated Target Value')\n",
        "plt.ylabel('Count')\n",
        "plt.show()"
      ],
      "execution_count": 44,
      "outputs": [
        {
          "output_type": "display_data",
          "data": {
            "image/png": "[encoded data removed]",
            "text/plain": [
              "<Figure size 1440x360 with 2 Axes>"
            ]
          },
          "metadata": {
            "tags": [],
            "needs_background": "light"
          }
        }
      ]
    }
  ]
}